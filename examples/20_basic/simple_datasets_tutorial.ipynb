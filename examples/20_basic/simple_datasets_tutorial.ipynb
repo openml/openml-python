{
 "cells": [
  {
   "cell_type": "markdown",
   "id": "40c8509e-4bd4-408f-a48a-b599643241d8",
   "metadata": {},
   "source": [
    "# Datasets\n",
    "This is a tutorial on how to list, load and visualize datasets.\n",
    "In general, we recommend working with tasks, so that the results can\n",
    "be easily reproduced. Furthermore, the results can be compared to existing results\n",
    "at OpenML. However, for the purposes of this tutorial, we are going to work with\n",
    "the datasets directly."
   ]
  },
  {
   "cell_type": "code",
   "execution_count": null,
   "id": "87d8acb0-7238-4945-80ac-fc272b8ae4fb",
   "metadata": {},
   "outputs": [],
   "source": [
    "import openml"
   ]
  },
  {
   "cell_type": "markdown",
   "id": "b78c2345-33e9-4c2a-9a93-dee249516e87",
   "metadata": {},
   "source": [
    "To see what datasets are available on OpenML:"
   ]
  },
  {
   "cell_type": "code",
   "execution_count": null,
   "id": "df62d174-e292-494b-802c-bfea731fd30f",
   "metadata": {},
   "outputs": [],
   "source": [
    "datasets_df = openml.datasets.list_datasets()\n",
    "print(datasets_df.head(n=10))"
   ]
  },
  {
   "cell_type": "markdown",
   "id": "5259c7dc-2a6b-487a-a467-b39865ba4f80",
   "metadata": {},
   "source": [
    "Download a dataset"
   ]
  },
  {
   "cell_type": "code",
   "execution_count": null,
   "id": "eb0ff822-11d9-4911-b8ee-dd7c86e152a8",
   "metadata": {},
   "outputs": [],
   "source": [
    "dataset = openml.datasets.get_dataset(61)"
   ]
  },
  {
   "cell_type": "code",
   "execution_count": null,
   "id": "43669467-0978-4ed7-bff9-54a9030e00e5",
   "metadata": {},
   "outputs": [],
   "source": [
    "print(\n",
    "    f\"This is dataset '{dataset.name}', the target feature is \"\n",
    "    f\"'{dataset.default_target_attribute}'\"\n",
    ")\n",
    "print(f\"URL: {dataset.url}\")\n",
    "print(dataset.description[:500])"
   ]
  },
  {
   "cell_type": "markdown",
   "id": "b72841b0-b028-4ab0-a125-22bdee59f3ee",
   "metadata": {},
   "source": [
    "## Load a dataset\n",
    "X - An array/datafraX, y, categorical_indicator, attribute_names = dataset.get_data(\n",
    "    dataset_format=\"dataframe\", target=dataset.default_target_attribute\n",
    ")me where each row represents one example with\n",
    "the corresponding feature values.\n",
    "\n",
    "y - the classes for each example\n",
    "\n",
    "categorical_indicator - an array that indicates which feature is categorical\n",
    "\n",
    "attribute_names - the names of the features for the examples (X) and\n",
    "target feature (y)\n"
   ]
  },
  {
   "cell_type": "code",
   "execution_count": null,
   "id": "8555d82d-922c-412d-b362-689d2e50b952",
   "metadata": {},
   "outputs": [],
   "source": [
    "X, y, categorical_indicator, attribute_names = dataset.get_data(\n",
    "    dataset_format=\"dataframe\", target=dataset.default_target_attribute\n",
    ")"
   ]
  },
  {
   "cell_type": "markdown",
   "id": "8c3ab47e-9c6e-4b2c-b775-1f73c976573a",
   "metadata": {},
   "source": [
    "Visualize the dataset"
   ]
  },
  {
   "cell_type": "code",
   "execution_count": null,
   "id": "8f96dcfd-9083-4b3a-868f-2b456ac1a0a1",
   "metadata": {},
   "outputs": [],
   "source": [
    "import pandas as pd\n",
    "import seaborn as sns\n",
    "import matplotlib.pyplot as plt\n",
    "\n",
    "sns.set_style(\"darkgrid\")\n",
    "\n",
    "\n",
    "def hide_current_axis(*args, **kwds):\n",
    "    plt.gca().set_visible(False)\n",
    "\n",
    "\n",
    "# We combine all the data so that we can map the different\n",
    "# examples to different colors according to the classes.\n",
    "combined_data = pd.concat([X, y], axis=1)\n",
    "iris_plot = sns.pairplot(combined_data, hue=\"class\")\n",
    "iris_plot.map_upper(hide_current_axis)\n",
    "plt.show()"
   ]
  }
 ],
 "metadata": {
  "kernelspec": {
   "display_name": "Python 3 (ipykernel)",
   "language": "python",
   "name": "python3"
  },
  "language_info": {
   "codemirror_mode": {
    "name": "ipython",
    "version": 3
   },
   "file_extension": ".py",
   "mimetype": "text/x-python",
   "name": "python",
   "nbconvert_exporter": "python",
   "pygments_lexer": "ipython3",
   "version": "3.11.3"
  }
 },
 "nbformat": 4,
 "nbformat_minor": 5
}
