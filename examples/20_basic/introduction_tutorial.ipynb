{
 "cells": [
  {
   "cell_type": "markdown",
   "id": "3c295aed5545023a",
   "metadata": {
    "collapsed": false,
    "jupyter": {
     "outputs_hidden": false
    }
   },
   "source": [
    "# Introduction tutorial & Setup\n",
    "\n",
    "An example how to set up OpenML-Python followed up by a simple example.\n",
    "OpenML is an online collaboration platform for machine learning which allows\n",
    "you to:\n",
    "\n",
    "* Find or share interesting, well-documented datasets\n",
    "* Define research / modelling goals (tasks)\n",
    "* Explore large amounts of machine learning algorithms, with APIs in Java, R, Python\n",
    "* Log and share reproducible experiments, models, results\n",
    "* Works seamlessly with scikit-learn and other libraries\n",
    "* Large scale benchmarking, compare to state of the art"
   ]
  },
  {
   "cell_type": "markdown",
   "id": "48800928f4e5a6a6",
   "metadata": {
    "collapsed": false,
    "jupyter": {
     "outputs_hidden": false
    }
   },
   "source": [
    "# Installation\n",
    "installation is done via ``pip``: `pip install openml`\n",
    "\n",
    "for further information, please check out the installation guide at\n",
    ":ref:`installation`."
   ]
  },
  {
   "cell_type": "markdown",
   "id": "7d6e682752db0423",
   "metadata": {
    "collapsed": false,
    "jupyter": {
     "outputs_hidden": false
    }
   },
   "source": [
    "# Authentication\n",
    "\n",
    "the OpenML server can only be accessed by users who have signed up on the\n",
    "openML platform. If you don’t have an account yet, sign up now.\n",
    "you will receive an API key, which will authenticate you to the server\n",
    "and allow you to download and upload datasets, tasks, runs and flows.\n",
    "\n",
    "* Create an OpenML account (free) on [https://www.openml.org](https://www.openml.org).\n",
    "* After logging in, open your account page (avatar on the top right)\n",
    "* Open 'Account Settings', then 'API authentication' to find your API key.\n",
    "\n",
    "there are two ways to permanently authenticate:\n",
    "\n",
    "* Use the ``openml`` CLI tool with ``openml configure apikey MYKEY``,\n",
    "  replacing **MYKEY** with your API key.\n",
    "* Create a plain text file **~/.openml/config** with the line\n",
    "  **'apikey=MYKEY'**, replacing **MYKEY** with your API key. The config\n",
    "  file must be in the directory ~/.openml/config and exist prior to\n",
    "  importing the openml module.\n",
    "\n",
    "alternatively, by running the code below and replacing 'YOURKEY' with your API key,\n",
    "you authenticate for the duration of the python process."
   ]
  },
  {
   "cell_type": "code",
   "execution_count": null,
   "id": "b2fae124f696eff0",
   "metadata": {
    "collapsed": false,
    "jupyter": {
     "outputs_hidden": false
    }
   },
   "outputs": [],
   "source": [
    "import openml\n",
    "from sklearn import neighbors"
   ]
  },
  {
   "cell_type": "markdown",
   "id": "d0863018bf228f68",
   "metadata": {
    "collapsed": false,
    "jupyter": {
     "outputs_hidden": false
    }
   },
   "source": [
    ".. warning::\n",
    "\n",
    ".. include:: ../../test_server_usage_warning.txt"
   ]
  },
  {
   "cell_type": "code",
   "execution_count": null,
   "id": "690279c9d3c1b9db",
   "metadata": {
    "collapsed": false,
    "jupyter": {
     "outputs_hidden": false
    }
   },
   "outputs": [],
   "source": [
    "openml.config.start_using_configuration_for_example()"
   ]
  },
  {
   "cell_type": "markdown",
   "id": "11851df7a3d601db",
   "metadata": {
    "collapsed": false,
    "jupyter": {
     "outputs_hidden": false
    }
   },
   "source": [
    "when using the main server instead, make sure your apikey is configured.\n",
    "this can be done with the following line of code (uncomment it!). Never share your apikey with others."
   ]
  },
  {
   "cell_type": "code",
   "execution_count": null,
   "id": "ce399cc2fd336599",
   "metadata": {
    "collapsed": false,
    "jupyter": {
     "outputs_hidden": false
    }
   },
   "outputs": [],
   "source": [
    "# openml.config.apikey = 'YOURKEY'"
   ]
  },
  {
   "cell_type": "markdown",
   "id": "e13705e39146a74d",
   "metadata": {
    "collapsed": false,
    "jupyter": {
     "outputs_hidden": false
    }
   },
   "source": [
    "# Caching\n",
    "when downloading datasets, tasks, runs and flows, they will be cached to\n",
    "retrieve them without calling the server later. As with the API key,\n",
    "the cache directory can be either specified through the config file or\n",
    "through the API:\n",
    "\n",
    "* Add the  line **cachedir = 'MYDIR'** to the config file, replacing\n",
    "  'MYDIR' with the path to the cache directory. By default, OpenML\n",
    "   will use **~/.openml/cache** as the cache directory.\n",
    "* Run the code below, replacing 'YOURDIR' with the path to the cache directory."
   ]
  },
  {
   "cell_type": "code",
   "execution_count": null,
   "id": "bd7c4fe7e60a5551",
   "metadata": {
    "collapsed": false,
    "jupyter": {
     "outputs_hidden": false
    }
   },
   "outputs": [],
   "source": [
    "# Uncomment and set your OpenML cache directory\n",
    "# import os\n",
    "# openml.config.cache_directory = os.path.expanduser('YOURDIR')"
   ]
  },
  {
   "cell_type": "markdown",
   "id": "e55589fdbc0576b9",
   "metadata": {
    "collapsed": false,
    "jupyter": {
     "outputs_hidden": false
    }
   },
   "source": [
    "# Simple Example\n",
    "download the OpenML task for the eeg-eye-state."
   ]
  },
  {
   "cell_type": "code",
   "execution_count": null,
   "id": "bf48de543d90a92c",
   "metadata": {
    "collapsed": false,
    "jupyter": {
     "outputs_hidden": false
    }
   },
   "outputs": [],
   "source": [
    "task = openml.tasks.get_task(403)\n",
    "data = openml.datasets.get_dataset(task.dataset_id)\n",
    "clf = neighbors.KNeighborsClassifier(n_neighbors=5)\n",
    "run = openml.runs.run_model_on_task(clf, task, avoid_duplicate_runs=False)\n",
    "# Publish the experiment on OpenML (optional, requires an API key).\n",
    "# For this tutorial, our configuration publishes to the test server\n",
    "# as to not crowd the main server with runs created by examples.\n",
    "myrun = run.publish()\n",
    "print(f\"kNN on {data.name}: {myrun.openml_url}\")"
   ]
  },
  {
   "cell_type": "code",
   "execution_count": null,
   "id": "e56c29b055269e1a",
   "metadata": {
    "collapsed": false,
    "jupyter": {
     "outputs_hidden": false
    }
   },
   "outputs": [],
   "source": [
    "openml.config.stop_using_configuration_for_example()"
   ]
  }
 ],
 "metadata": {
  "kernelspec": {
   "display_name": "Python 3 (ipykernel)",
   "language": "python",
   "name": "python3"
  },
  "language_info": {
   "codemirror_mode": {
    "name": "ipython",
    "version": 3
   },
   "file_extension": ".py",
   "mimetype": "text/x-python",
   "name": "python",
   "nbconvert_exporter": "python",
   "pygments_lexer": "ipython3",
   "version": "3.11.3"
  }
 },
 "nbformat": 4,
 "nbformat_minor": 5
}
