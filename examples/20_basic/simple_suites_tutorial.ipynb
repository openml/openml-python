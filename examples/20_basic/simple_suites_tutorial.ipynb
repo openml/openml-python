{
 "cells": [
  {
   "cell_type": "markdown",
   "id": "51328ccc-c991-4f13-a233-d3ae33cd95a8",
   "metadata": {},
   "source": [
    "# Benchmark suites\n",
    "\n",
    "This is a brief showcase of OpenML benchmark suites, which were introduced by\n",
    "[Bischl et al. (2019)](https://arxiv.org/abs/1708.03731v2). Benchmark suites standardize the\n",
    "datasets and splits to be used in an experiment or paper. They are fully integrated into OpenML\n",
    "and simplify both the sharing of the setup and the results."
   ]
  },
  {
   "cell_type": "code",
   "execution_count": null,
   "id": "b2c6e3ce-ca6a-4355-b834-9add5c6ed9c8",
   "metadata": {},
   "outputs": [],
   "source": [
    "import openml"
   ]
  },
  {
   "cell_type": "markdown",
   "id": "a4dd492b-ba0f-4696-bebf-670ecd04113e",
   "metadata": {},
   "source": [
    "# OpenML-CC18\n",
    "As an example we have a look at the OpenML-CC18, which is a suite of 72 classification datasets\n",
    "from OpenML which were carefully selected to be usable by many algorithms and also represent\n",
    "datasets commonly used in machine learning research. These are all datasets from mid-2018 that\n",
    "satisfy a large set of clear requirements for thorough yet practical benchmarking:\n",
    "\n",
    "1. the number of observations are between 500 and 100,000 to focus on medium-sized datasets,\n",
    "2. the number of features does not exceed 5,000 features to keep the runtime of the algorithms low\n",
    "3. the target attribute has at least two classes with no class having less than 20 observations\n",
    "4. the ratio of the minority class and the majority class is above 0.05 (to eliminate highly imbalanced datasets which require special treatment for both algorithms and evaluation measures).\n",
    "\n",
    "A full description can be found in the [OpenML benchmarking docs](https://docs.openml.org/benchmark/#openml-cc18).\n",
    "\n",
    "In this example we'll focus on how to use benchmark suites in practice.\n",
    "\n",
    "# Downloading benchmark suites"
   ]
  },
  {
   "cell_type": "code",
   "execution_count": null,
   "id": "a1562cca-caef-4f31-b2d5-c45c8738c6cd",
   "metadata": {},
   "outputs": [],
   "source": [
    "suite = openml.study.get_suite(99)\n",
    "print(suite)"
   ]
  },
  {
   "cell_type": "markdown",
   "id": "3578c88d-6c38-4ad5-8bdc-688e32e9cded",
   "metadata": {},
   "source": [
    "The benchmark suite does not download the included tasks and datasets itself, but only contains a list of which tasks constitute the study.\n",
    "\n",
    "Tasks can then be accessed via"
   ]
  },
  {
   "cell_type": "code",
   "execution_count": null,
   "id": "4b23b960-2df7-444e-9751-bfb1add540cf",
   "metadata": {},
   "outputs": [],
   "source": [
    "tasks = suite.tasks\n",
    "print(tasks)"
   ]
  },
  {
   "cell_type": "markdown",
   "id": "5aa0aec7-16e7-46e5-8c76-0a31a1513c52",
   "metadata": {},
   "source": [
    "and iterated over for benchmarking. For speed reasons we only iterate over the first three tasks:"
   ]
  },
  {
   "cell_type": "code",
   "execution_count": null,
   "id": "20a13a2c-807f-4692-a7d6-16c2cfee8b36",
   "metadata": {},
   "outputs": [],
   "source": [
    "for task_id in tasks[:3]:\n",
    "    task = openml.tasks.get_task(task_id)\n",
    "    print(task)"
   ]
  },
  {
   "cell_type": "markdown",
   "id": "cc8183d8-8ca1-4248-8c31-b18b7f7ca72f",
   "metadata": {},
   "source": [
    "# Further examples\n",
    "* [Extended Suites Tutorial](../30_extended/suites_tutorial)\n",
    "* :ref:`sphx_glr_examples_30_extended_study_tutorial.py`\n",
    "* :ref:`sphx_glr_examples_40_paper_2018_ida_strang_example.py`"
   ]
  },
  {
   "cell_type": "code",
   "execution_count": null,
   "id": "77db0c7d-eb13-4b28-937b-9c02c2dcce70",
   "metadata": {},
   "outputs": [],
   "source": []
  }
 ],
 "metadata": {
  "kernelspec": {
   "display_name": "Python 3 (ipykernel)",
   "language": "python",
   "name": "python3"
  },
  "language_info": {
   "codemirror_mode": {
    "name": "ipython",
    "version": 3
   },
   "file_extension": ".py",
   "mimetype": "text/x-python",
   "name": "python",
   "nbconvert_exporter": "python",
   "pygments_lexer": "ipython3",
   "version": "3.11.3"
  }
 },
 "nbformat": 4,
 "nbformat_minor": 5
}
