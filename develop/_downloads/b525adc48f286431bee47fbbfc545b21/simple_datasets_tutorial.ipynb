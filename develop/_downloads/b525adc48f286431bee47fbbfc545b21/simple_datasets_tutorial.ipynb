{
  "cells": [
    {
      "cell_type": "markdown",
      "metadata": {},
      "source": [
        "\n# Datasets\n\nA basic tutorial on how to list, load and visualize datasets.\n"
      ]
    },
    {
      "cell_type": "markdown",
      "metadata": {},
      "source": [
        "In general, we recommend working with tasks, so that the results can\nbe easily reproduced. Furthermore, the results can be compared to existing results\nat OpenML. However, for the purposes of this tutorial, we are going to work with\nthe datasets directly.\n\n"
      ]
    },
    {
      "cell_type": "code",
      "execution_count": null,
      "metadata": {
        "collapsed": false
      },
      "outputs": [],
      "source": [
        "# License: BSD 3-Clause\n\nimport openml"
      ]
    },
    {
      "cell_type": "markdown",
      "metadata": {},
      "source": [
        "## List datasets\n\n"
      ]
    },
    {
      "cell_type": "code",
      "execution_count": null,
      "metadata": {
        "collapsed": false
      },
      "outputs": [],
      "source": [
        "datasets_df = openml.datasets.list_datasets(output_format=\"dataframe\")\nprint(datasets_df.head(n=10))"
      ]
    },
    {
      "cell_type": "markdown",
      "metadata": {},
      "source": [
        "## Download a dataset\n\n"
      ]
    },
    {
      "cell_type": "code",
      "execution_count": null,
      "metadata": {
        "collapsed": false
      },
      "outputs": [],
      "source": [
        "# Iris dataset https://www.openml.org/d/61\ndataset = openml.datasets.get_dataset(dataset_id=\"iris\", version=1)\n\n# Print a summary\nprint(\n    f\"This is dataset '{dataset.name}', the target feature is \"\n    f\"'{dataset.default_target_attribute}'\"\n)\nprint(f\"URL: {dataset.url}\")\nprint(dataset.description[:500])"
      ]
    },
    {
      "cell_type": "markdown",
      "metadata": {},
      "source": [
        "## Load a dataset\n\n"
      ]
    },
    {
      "cell_type": "code",
      "execution_count": null,
      "metadata": {
        "collapsed": false
      },
      "outputs": [],
      "source": [
        "# X - An array/dataframe where each row represents one example with\n# the corresponding feature values.\n# y - the classes for each example\n# categorical_indicator - an array that indicates which feature is categorical\n# attribute_names - the names of the features for the examples (X) and\n# target feature (y)\nX, y, categorical_indicator, attribute_names = dataset.get_data(\n    dataset_format=\"dataframe\", target=dataset.default_target_attribute\n)"
      ]
    },
    {
      "cell_type": "markdown",
      "metadata": {},
      "source": [
        "Tip: you can get a progress bar for dataset downloads, simply set it in\nthe configuration. Either in code or in the configuration file\n(see also the introduction tutorial)\n\n"
      ]
    },
    {
      "cell_type": "code",
      "execution_count": null,
      "metadata": {
        "collapsed": false
      },
      "outputs": [],
      "source": [
        "openml.config.show_progress = True"
      ]
    },
    {
      "cell_type": "markdown",
      "metadata": {},
      "source": [
        "## Visualize the dataset\n\n"
      ]
    },
    {
      "cell_type": "code",
      "execution_count": null,
      "metadata": {
        "collapsed": false
      },
      "outputs": [],
      "source": [
        "import pandas as pd\nimport seaborn as sns\nimport matplotlib.pyplot as plt\n\nsns.set_style(\"darkgrid\")\n\n\ndef hide_current_axis(*args, **kwds):\n    plt.gca().set_visible(False)\n\n\n# We combine all the data so that we can map the different\n# examples to different colors according to the classes.\ncombined_data = pd.concat([X, y], axis=1)\niris_plot = sns.pairplot(combined_data, hue=\"class\")\niris_plot.map_upper(hide_current_axis)\nplt.show()"
      ]
    }
  ],
  "metadata": {
    "kernelspec": {
      "display_name": "Python 3",
      "language": "python",
      "name": "python3"
    },
    "language_info": {
      "codemirror_mode": {
        "name": "ipython",
        "version": 3
      },
      "file_extension": ".py",
      "mimetype": "text/x-python",
      "name": "python",
      "nbconvert_exporter": "python",
      "pygments_lexer": "ipython3",
      "version": "3.8.18"
    }
  },
  "nbformat": 4,
  "nbformat_minor": 0
}