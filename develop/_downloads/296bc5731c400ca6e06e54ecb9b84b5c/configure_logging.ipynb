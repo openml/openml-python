{
  "cells": [
    {
      "cell_type": "markdown",
      "metadata": {},
      "source": [
        "\n# Logging\n\nExplains openml-python logging, and shows how to configure it.\n"
      ]
    },
    {
      "cell_type": "markdown",
      "metadata": {},
      "source": [
        "Openml-python uses the [Python logging module](https://docs.python.org/3/library/logging.html)\nto provide users with log messages. Each log message is assigned a level of importance, see\nthe table in Python's logging tutorial\n[here](https://docs.python.org/3/howto/logging.html#when-to-use-logging).\n\nBy default, openml-python will print log messages of level `WARNING` and above to console.\nAll log messages (including `DEBUG` and `INFO`) are also saved in a file, which can be\nfound in your cache directory (see also the\n`sphx_glr_examples_20_basic_introduction_tutorial.py`).\nThese file logs are automatically deleted if needed, and use at most 2MB of space.\n\nIt is possible to configure what log levels to send to console and file.\nWhen downloading a dataset from OpenML, a `DEBUG`-level message is written:\n\n"
      ]
    },
    {
      "cell_type": "code",
      "execution_count": null,
      "metadata": {
        "collapsed": false
      },
      "outputs": [],
      "source": [
        "# License: BSD 3-Clause\n\nimport openml\n\nopenml.datasets.get_dataset(\"iris\")\n\n# With default configuration, the above example will show no output to console.\n# However, in your cache directory you should find a file named 'openml_python.log',\n# which has a DEBUG message written to it. It should be either like\n# \"[DEBUG] [10:46:19:openml.datasets.dataset] Saved dataset 61: iris to file ...\"\n# or like\n# \"[DEBUG] [10:49:38:openml.datasets.dataset] Data pickle file already exists and is up to date.\"\n# , depending on whether or not you had downloaded iris before.\n# The processed log levels can be configured programmatically:\n\nimport logging\n\nopenml.config.set_console_log_level(logging.DEBUG)\nopenml.config.set_file_log_level(logging.WARNING)\nopenml.datasets.get_dataset(\"iris\")\n\n# Now the log level that was previously written to file should also be shown in the console.\n# The message is now no longer written to file as the `file_log` was set to level `WARNING`.\n#\n# It is also possible to specify the desired log levels through the configuration file.\n# This way you will not need to set them on each script separately.\n# Add the  line **verbosity = NUMBER** and/or **file_verbosity = NUMBER** to the config file,\n# where 'NUMBER' should be one of:\n#\n# * 0: `logging.WARNING` and up.\n# * 1: `logging.INFO` and up.\n# * 2: `logging.DEBUG` and up (i.e. all messages)."
      ]
    }
  ],
  "metadata": {
    "kernelspec": {
      "display_name": "Python 3",
      "language": "python",
      "name": "python3"
    },
    "language_info": {
      "codemirror_mode": {
        "name": "ipython",
        "version": 3
      },
      "file_extension": ".py",
      "mimetype": "text/x-python",
      "name": "python",
      "nbconvert_exporter": "python",
      "pygments_lexer": "ipython3",
      "version": "3.8.18"
    }
  },
  "nbformat": 4,
  "nbformat_minor": 0
}