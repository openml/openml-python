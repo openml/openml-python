{
  "cells": [
    {
      "cell_type": "markdown",
      "metadata": {},
      "source": [
        "\n# Run Setup\n\nBy: Jan N. van Rijn\n\nOne of the key features of the openml-python library is that is allows to\nreinstantiate flows with hyperparameter settings that were uploaded before.\nThis tutorial uses the concept of setups. Although setups are not extensively\ndescribed in the OpenML documentation (because most users will not directly\nuse them), they form a important concept within OpenML distinguishing between\nhyperparameter configurations.\nA setup is the combination of a flow with all its hyperparameters set.\n\nA key requirement for reinstantiating a flow is to have the same scikit-learn\nversion as the flow that was uploaded. However, this tutorial will upload the\nflow (that will later be reinstantiated) itself, so it can be ran with any\nscikit-learn version that is supported by this library. In this case, the\nrequirement of the corresponding scikit-learn versions is automatically met.\n\nIn this tutorial we will\n    1) Create a flow and use it to solve a task;\n    2) Download the flow, reinstantiate the model with same hyperparameters,\n       and solve the same task again;\n    3) We will verify that the obtained results are exactly the same.\n"
      ]
    },
    {
      "cell_type": "code",
      "execution_count": null,
      "metadata": {
        "collapsed": false
      },
      "outputs": [],
      "source": [
        "# License: BSD 3-Clause\n\nimport numpy as np\nimport openml\nfrom openml.extensions.sklearn import cat, cont\n\nfrom sklearn.pipeline import make_pipeline, Pipeline\nfrom sklearn.compose import ColumnTransformer\nfrom sklearn.impute import SimpleImputer\nfrom sklearn.preprocessing import OneHotEncoder, FunctionTransformer\nfrom sklearn.ensemble import RandomForestClassifier\nfrom sklearn.decomposition import TruncatedSVD"
      ]
    },
    {
      "cell_type": "markdown",
      "metadata": {},
      "source": [
        "<div class=\"alert alert-danger\"><h4>Warning</h4><p>.. include:: ../../test_server_usage_warning.txt</p></div>\n\n"
      ]
    },
    {
      "cell_type": "code",
      "execution_count": null,
      "metadata": {
        "collapsed": false
      },
      "outputs": [],
      "source": [
        "openml.config.start_using_configuration_for_example()"
      ]
    },
    {
      "cell_type": "markdown",
      "metadata": {},
      "source": [
        "## 1) Create a flow and use it to solve a task\n\n"
      ]
    },
    {
      "cell_type": "code",
      "execution_count": null,
      "metadata": {
        "collapsed": false
      },
      "outputs": [],
      "source": [
        "# first, let's download the task that we are interested in\ntask = openml.tasks.get_task(6)\n\n\n# we will create a fairly complex model, with many preprocessing components and\n# many potential hyperparameters. Of course, the model can be as complex and as\n# easy as you want it to be\n\n\ncat_imp = make_pipeline(\n    OneHotEncoder(handle_unknown=\"ignore\"),\n    TruncatedSVD(),\n)\ncont_imp = SimpleImputer(strategy=\"median\")\nct = ColumnTransformer([(\"cat\", cat_imp, cat), (\"cont\", cont_imp, cont)])\nmodel_original = Pipeline(\n    steps=[\n        (\"transform\", ct),\n        (\"estimator\", RandomForestClassifier()),\n    ]\n)\n\n# Let's change some hyperparameters. Of course, in any good application we\n# would tune them using, e.g., Random Search or Bayesian Optimization, but for\n# the purpose of this tutorial we set them to some specific values that might\n# or might not be optimal\nhyperparameters_original = {\n    \"estimator__criterion\": \"gini\",\n    \"estimator__n_estimators\": 50,\n    \"estimator__max_depth\": 10,\n    \"estimator__min_samples_leaf\": 1,\n}\nmodel_original.set_params(**hyperparameters_original)\n\n# solve the task and upload the result (this implicitly creates the flow)\nrun = openml.runs.run_model_on_task(model_original, task, avoid_duplicate_runs=False)\nrun_original = run.publish()  # this implicitly uploads the flow"
      ]
    },
    {
      "cell_type": "markdown",
      "metadata": {},
      "source": [
        "## 2) Download the flow and solve the same task again.\n\n"
      ]
    },
    {
      "cell_type": "code",
      "execution_count": null,
      "metadata": {
        "collapsed": false
      },
      "outputs": [],
      "source": [
        "# obtain setup id (note that the setup id is assigned by the OpenML server -\n# therefore it was not yet available in our local copy of the run)\nrun_downloaded = openml.runs.get_run(run_original.run_id)\nsetup_id = run_downloaded.setup_id\n\n# after this, we can easily reinstantiate the model\nmodel_duplicate = openml.setups.initialize_model(setup_id)\n# it will automatically have all the hyperparameters set\n\n# and run the task again\nrun_duplicate = openml.runs.run_model_on_task(model_duplicate, task, avoid_duplicate_runs=False)"
      ]
    },
    {
      "cell_type": "markdown",
      "metadata": {},
      "source": [
        "## 3) We will verify that the obtained results are exactly the same.\n\n"
      ]
    },
    {
      "cell_type": "code",
      "execution_count": null,
      "metadata": {
        "collapsed": false
      },
      "outputs": [],
      "source": [
        "# the run has stored all predictions in the field data content\nnp.testing.assert_array_equal(run_original.data_content, run_duplicate.data_content)"
      ]
    },
    {
      "cell_type": "code",
      "execution_count": null,
      "metadata": {
        "collapsed": false
      },
      "outputs": [],
      "source": [
        "openml.config.stop_using_configuration_for_example()"
      ]
    }
  ],
  "metadata": {
    "kernelspec": {
      "display_name": "Python 3",
      "language": "python",
      "name": "python3"
    },
    "language_info": {
      "codemirror_mode": {
        "name": "ipython",
        "version": 3
      },
      "file_extension": ".py",
      "mimetype": "text/x-python",
      "name": "python",
      "nbconvert_exporter": "python",
      "pygments_lexer": "ipython3",
      "version": "3.8.18"
    }
  },
  "nbformat": 4,
  "nbformat_minor": 0
}