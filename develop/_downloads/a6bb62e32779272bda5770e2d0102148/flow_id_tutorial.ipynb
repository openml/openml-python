{
  "cells": [
    {
      "cell_type": "markdown",
      "metadata": {},
      "source": [
        "\n# Obtaining Flow IDs\n\nThis tutorial discusses different ways to obtain the ID of a flow in order to perform further\nanalysis.\n"
      ]
    },
    {
      "cell_type": "code",
      "execution_count": null,
      "metadata": {
        "collapsed": false
      },
      "outputs": [],
      "source": [
        "# License: BSD 3-Clause\n\nimport sklearn.tree\n\nimport openml"
      ]
    },
    {
      "cell_type": "markdown",
      "metadata": {},
      "source": [
        "<div class=\"alert alert-danger\"><h4>Warning</h4><p>.. include:: ../../test_server_usage_warning.txt</p></div>\n\n"
      ]
    },
    {
      "cell_type": "code",
      "execution_count": null,
      "metadata": {
        "collapsed": false
      },
      "outputs": [],
      "source": [
        "openml.config.start_using_configuration_for_example()"
      ]
    },
    {
      "cell_type": "markdown",
      "metadata": {},
      "source": [
        "Defining a classifier\n\n"
      ]
    },
    {
      "cell_type": "code",
      "execution_count": null,
      "metadata": {
        "collapsed": false
      },
      "outputs": [],
      "source": [
        "clf = sklearn.tree.DecisionTreeClassifier()"
      ]
    },
    {
      "cell_type": "markdown",
      "metadata": {},
      "source": [
        "## 1. Obtaining a flow given a classifier\n\n\n"
      ]
    },
    {
      "cell_type": "code",
      "execution_count": null,
      "metadata": {
        "collapsed": false
      },
      "outputs": [],
      "source": [
        "flow = openml.extensions.get_extension_by_model(clf).model_to_flow(clf).publish()\nflow_id = flow.flow_id\nprint(flow_id)"
      ]
    },
    {
      "cell_type": "markdown",
      "metadata": {},
      "source": [
        "This piece of code is rather involved. First, it retrieves a\n:class:`~openml.extensions.Extension` which is registered and can handle the given model,\nin our case it is :class:`openml.extensions.sklearn.SklearnExtension`. Second, the extension\nconverts the classifier into an instance of :class:`openml.OpenMLFlow`. Third and finally,\nthe publish method checks whether the current flow is already present on OpenML. If not,\nit uploads the flow, otherwise, it updates the current instance with all information computed\nby the server (which is obviously also done when uploading/publishing a flow).\n\nTo simplify the usage we have created a helper function which automates all these steps:\n\n"
      ]
    },
    {
      "cell_type": "code",
      "execution_count": null,
      "metadata": {
        "collapsed": false
      },
      "outputs": [],
      "source": [
        "flow_id = openml.flows.get_flow_id(model=clf)\nprint(flow_id)"
      ]
    },
    {
      "cell_type": "markdown",
      "metadata": {},
      "source": [
        "## 2. Obtaining a flow given its name\nThe schema of a flow is given in XSD ([here](https://github.com/openml/OpenML/blob/master/openml_OS/views/pages/api_new/v1/xsd/openml.implementation.upload.xsd)).  # noqa E501\nOnly two fields are required, a unique name, and an external version. While it should be pretty\nobvious why we need a name, the need for the additional external version information might not\nbe immediately clear. However, this information is very important as it allows to have multiple\nflows with the same name for different versions of a software. This might be necessary if an\nalgorithm or implementation introduces, renames or drop hyperparameters over time.\n\n"
      ]
    },
    {
      "cell_type": "code",
      "execution_count": null,
      "metadata": {
        "collapsed": false
      },
      "outputs": [],
      "source": [
        "print(flow.name, flow.external_version)"
      ]
    },
    {
      "cell_type": "markdown",
      "metadata": {},
      "source": [
        "The name and external version are automatically added to a flow when constructing it from a\nmodel. We can then use them to retrieve the flow id as follows:\n\n"
      ]
    },
    {
      "cell_type": "code",
      "execution_count": null,
      "metadata": {
        "collapsed": false
      },
      "outputs": [],
      "source": [
        "flow_id = openml.flows.flow_exists(name=flow.name, external_version=flow.external_version)\nprint(flow_id)"
      ]
    },
    {
      "cell_type": "markdown",
      "metadata": {},
      "source": [
        "We can also retrieve all flows for a given name:\n\n"
      ]
    },
    {
      "cell_type": "code",
      "execution_count": null,
      "metadata": {
        "collapsed": false
      },
      "outputs": [],
      "source": [
        "flow_ids = openml.flows.get_flow_id(name=flow.name)\nprint(flow_ids)"
      ]
    },
    {
      "cell_type": "markdown",
      "metadata": {},
      "source": [
        "This also works with the actual model (generalizing the first part of this example):\n\n"
      ]
    },
    {
      "cell_type": "code",
      "execution_count": null,
      "metadata": {
        "collapsed": false
      },
      "outputs": [],
      "source": [
        "flow_ids = openml.flows.get_flow_id(model=clf, exact_version=False)\nprint(flow_ids)\n\n# Deactivating test server\nopenml.config.stop_using_configuration_for_example()"
      ]
    }
  ],
  "metadata": {
    "kernelspec": {
      "display_name": "Python 3",
      "language": "python",
      "name": "python3"
    },
    "language_info": {
      "codemirror_mode": {
        "name": "ipython",
        "version": 3
      },
      "file_extension": ".py",
      "mimetype": "text/x-python",
      "name": "python",
      "nbconvert_exporter": "python",
      "pygments_lexer": "ipython3",
      "version": "3.8.18"
    }
  },
  "nbformat": 4,
  "nbformat_minor": 0
}