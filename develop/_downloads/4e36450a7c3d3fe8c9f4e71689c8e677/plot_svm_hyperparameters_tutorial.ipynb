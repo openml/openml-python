{
  "cells": [
    {
      "cell_type": "markdown",
      "metadata": {},
      "source": [
        "\n# Plotting hyperparameter surfaces\n"
      ]
    },
    {
      "cell_type": "code",
      "execution_count": null,
      "metadata": {
        "collapsed": false
      },
      "outputs": [],
      "source": [
        "# License: BSD 3-Clause\n\nimport openml\nimport numpy as np"
      ]
    },
    {
      "cell_type": "markdown",
      "metadata": {},
      "source": [
        "## First step - obtaining the data\nFirst, we need to choose an SVM flow, for example 8353, and a task. Finding the IDs of them are\nnot part of this tutorial, this could for example be done via the website.\n\nFor this we use the function ``list_evaluations_setup`` which can automatically join\nevaluations conducted by the server with the hyperparameter settings extracted from the\nuploaded runs (called *setup*).\n\n"
      ]
    },
    {
      "cell_type": "code",
      "execution_count": null,
      "metadata": {
        "collapsed": false
      },
      "outputs": [],
      "source": [
        "df = openml.evaluations.list_evaluations_setups(\n    function=\"predictive_accuracy\",\n    flows=[8353],\n    tasks=[6],\n    output_format=\"dataframe\",\n    # Using this flag incorporates the hyperparameters into the returned dataframe. Otherwise,\n    # the dataframe would contain a field ``paramaters`` containing an unparsed dictionary.\n    parameters_in_separate_columns=True,\n)\nprint(df.head(n=10))"
      ]
    },
    {
      "cell_type": "markdown",
      "metadata": {},
      "source": [
        "We can see all the hyperparameter names in the columns of the dataframe:\n\n"
      ]
    },
    {
      "cell_type": "code",
      "execution_count": null,
      "metadata": {
        "collapsed": false
      },
      "outputs": [],
      "source": [
        "for name in df.columns:\n    print(name)"
      ]
    },
    {
      "cell_type": "markdown",
      "metadata": {},
      "source": [
        "Next, we cast and transform the hyperparameters of interest (``C`` and ``gamma``) so that we\ncan nicely plot them.\n\n"
      ]
    },
    {
      "cell_type": "code",
      "execution_count": null,
      "metadata": {
        "collapsed": false
      },
      "outputs": [],
      "source": [
        "hyperparameters = [\"sklearn.svm.classes.SVC(16)_C\", \"sklearn.svm.classes.SVC(16)_gamma\"]\ndf[hyperparameters] = df[hyperparameters].astype(float).apply(np.log10)"
      ]
    },
    {
      "cell_type": "markdown",
      "metadata": {},
      "source": [
        "## Option 1 - plotting via the pandas helper functions\n\n\n"
      ]
    },
    {
      "cell_type": "code",
      "execution_count": null,
      "metadata": {
        "collapsed": false
      },
      "outputs": [],
      "source": [
        "df.plot.hexbin(\n    x=\"sklearn.svm.classes.SVC(16)_C\",\n    y=\"sklearn.svm.classes.SVC(16)_gamma\",\n    C=\"value\",\n    reduce_C_function=np.mean,\n    gridsize=25,\n    title=\"SVM performance landscape\",\n)"
      ]
    },
    {
      "cell_type": "markdown",
      "metadata": {},
      "source": [
        "## Option 2 - plotting via matplotlib\n\n\n"
      ]
    },
    {
      "cell_type": "code",
      "execution_count": null,
      "metadata": {
        "collapsed": false
      },
      "outputs": [],
      "source": [
        "import matplotlib.pyplot as plt\n\nfig, ax = plt.subplots()\n\nC = df[\"sklearn.svm.classes.SVC(16)_C\"]\ngamma = df[\"sklearn.svm.classes.SVC(16)_gamma\"]\nscore = df[\"value\"]\n\n# Plotting all evaluations:\nax.plot(C, gamma, \"ko\", ms=1)\n# Create a contour plot\ncntr = ax.tricontourf(C, gamma, score, levels=12, cmap=\"RdBu_r\")\n# Adjusting the colorbar\nfig.colorbar(cntr, ax=ax, label=\"accuracy\")\n# Adjusting the axis limits\nax.set(\n    xlim=(min(C), max(C)),\n    ylim=(min(gamma), max(gamma)),\n    xlabel=\"C (log10)\",\n    ylabel=\"gamma (log10)\",\n)\nax.set_title(\"SVM performance landscape\")"
      ]
    }
  ],
  "metadata": {
    "kernelspec": {
      "display_name": "Python 3",
      "language": "python",
      "name": "python3"
    },
    "language_info": {
      "codemirror_mode": {
        "name": "ipython",
        "version": 3
      },
      "file_extension": ".py",
      "mimetype": "text/x-python",
      "name": "python",
      "nbconvert_exporter": "python",
      "pygments_lexer": "ipython3",
      "version": "3.8.18"
    }
  },
  "nbformat": 4,
  "nbformat_minor": 0
}