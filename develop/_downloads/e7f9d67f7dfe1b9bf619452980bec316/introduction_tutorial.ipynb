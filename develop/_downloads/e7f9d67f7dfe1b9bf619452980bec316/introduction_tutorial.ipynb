{
  "cells": [
    {
      "cell_type": "markdown",
      "metadata": {},
      "source": [
        "\n# Introduction tutorial & Setup\n\nAn example how to set up OpenML-Python followed up by a simple example.\n"
      ]
    },
    {
      "cell_type": "markdown",
      "metadata": {},
      "source": [
        "OpenML is an online collaboration platform for machine learning which allows\nyou to:\n\n* Find or share interesting, well-documented datasets\n* Define research / modelling goals (tasks)\n* Explore large amounts of machine learning algorithms, with APIs in Java, R, Python\n* Log and share reproducible experiments, models, results\n* Works seamlessly with scikit-learn and other libraries\n* Large scale benchmarking, compare to state of the art\n\n\n"
      ]
    },
    {
      "cell_type": "markdown",
      "metadata": {},
      "source": [
        "## Installation\nInstallation is done via ``pip``:\n\n.. code:: bash\n\n    pip install openml\n\nFor further information, please check out the installation guide at\n`installation`.\n\n\n"
      ]
    },
    {
      "cell_type": "markdown",
      "metadata": {},
      "source": [
        "## Authentication\n\nThe OpenML server can only be accessed by users who have signed up on the\nOpenML platform. If you don\u2019t have an account yet, sign up now.\nYou will receive an API key, which will authenticate you to the server\nand allow you to download and upload datasets, tasks, runs and flows.\n\n* Create an OpenML account (free) on https://www.openml.org.\n* After logging in, open your account page (avatar on the top right)\n* Open 'Account Settings', then 'API authentication' to find your API key.\n\nThere are two ways to permanently authenticate:\n\n* Use the ``openml`` CLI tool with ``openml configure apikey MYKEY``,\n  replacing **MYKEY** with your API key.\n* Create a plain text file **~/.openml/config** with the line\n  **'apikey=MYKEY'**, replacing **MYKEY** with your API key. The config\n  file must be in the directory ~/.openml/config and exist prior to\n  importing the openml module.\n\nAlternatively, by running the code below and replacing 'YOURKEY' with your API key,\nyou authenticate for the duration of the python process.\n\n"
      ]
    },
    {
      "cell_type": "code",
      "execution_count": null,
      "metadata": {
        "collapsed": false
      },
      "outputs": [],
      "source": [
        "# License: BSD 3-Clause\n\nimport openml\nfrom sklearn import neighbors"
      ]
    },
    {
      "cell_type": "markdown",
      "metadata": {},
      "source": [
        "<div class=\"alert alert-danger\"><h4>Warning</h4><p>.. include:: ../../test_server_usage_warning.txt</p></div>\n\n"
      ]
    },
    {
      "cell_type": "code",
      "execution_count": null,
      "metadata": {
        "collapsed": false
      },
      "outputs": [],
      "source": [
        "openml.config.start_using_configuration_for_example()"
      ]
    },
    {
      "cell_type": "markdown",
      "metadata": {},
      "source": [
        "When using the main server instead, make sure your apikey is configured.\nThis can be done with the following line of code (uncomment it!).\nNever share your apikey with others.\n\n"
      ]
    },
    {
      "cell_type": "code",
      "execution_count": null,
      "metadata": {
        "collapsed": false
      },
      "outputs": [],
      "source": [
        "# openml.config.apikey = 'YOURKEY'"
      ]
    },
    {
      "cell_type": "markdown",
      "metadata": {},
      "source": [
        "## Caching\nWhen downloading datasets, tasks, runs and flows, they will be cached to\nretrieve them without calling the server later. As with the API key,\nthe cache directory can be either specified through the config file or\nthrough the API:\n\n* Add the  line **cachedir = 'MYDIR'** to the config file, replacing\n  'MYDIR' with the path to the cache directory. By default, OpenML\n  will use **~/.openml/cache** as the cache directory.\n* Run the code below, replacing 'YOURDIR' with the path to the cache directory.\n\n"
      ]
    },
    {
      "cell_type": "code",
      "execution_count": null,
      "metadata": {
        "collapsed": false
      },
      "outputs": [],
      "source": [
        "# Uncomment and set your OpenML cache directory\n# import os\n# openml.config.cache_directory = os.path.expanduser('YOURDIR')"
      ]
    },
    {
      "cell_type": "markdown",
      "metadata": {},
      "source": [
        "## Simple Example\nDownload the OpenML task for the eeg-eye-state.\n\n"
      ]
    },
    {
      "cell_type": "code",
      "execution_count": null,
      "metadata": {
        "collapsed": false
      },
      "outputs": [],
      "source": [
        "task = openml.tasks.get_task(403)\ndata = openml.datasets.get_dataset(task.dataset_id)\nclf = neighbors.KNeighborsClassifier(n_neighbors=5)\nrun = openml.runs.run_model_on_task(clf, task, avoid_duplicate_runs=False)\n# Publish the experiment on OpenML (optional, requires an API key).\n# For this tutorial, our configuration publishes to the test server\n# as to not crowd the main server with runs created by examples.\nmyrun = run.publish()\nprint(f\"kNN on {data.name}: {myrun.openml_url}\")"
      ]
    },
    {
      "cell_type": "code",
      "execution_count": null,
      "metadata": {
        "collapsed": false
      },
      "outputs": [],
      "source": [
        "openml.config.stop_using_configuration_for_example()"
      ]
    }
  ],
  "metadata": {
    "kernelspec": {
      "display_name": "Python 3",
      "language": "python",
      "name": "python3"
    },
    "language_info": {
      "codemirror_mode": {
        "name": "ipython",
        "version": 3
      },
      "file_extension": ".py",
      "mimetype": "text/x-python",
      "name": "python",
      "nbconvert_exporter": "python",
      "pygments_lexer": "ipython3",
      "version": "3.8.18"
    }
  },
  "nbformat": 4,
  "nbformat_minor": 0
}