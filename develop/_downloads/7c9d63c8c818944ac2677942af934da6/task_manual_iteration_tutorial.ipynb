{
  "cells": [
    {
      "cell_type": "markdown",
      "metadata": {},
      "source": [
        "\n# Tasks: retrieving splits\n\nTasks define a target and a train/test split. Normally, they are the input to the function\n``openml.runs.run_model_on_task`` which automatically runs the model on all splits of the task.\nHowever, sometimes it is necessary to manually split a dataset to perform experiments outside of\nthe functions provided by OpenML. One such example is in the benchmark library\n[HPOBench](https://github.com/automl/HPOBench) which extensively uses data from OpenML,\nbut not OpenML's functionality to conduct runs.\n"
      ]
    },
    {
      "cell_type": "code",
      "execution_count": null,
      "metadata": {
        "collapsed": false
      },
      "outputs": [],
      "source": [
        "# License: BSD 3-Clause\n\nimport openml"
      ]
    },
    {
      "cell_type": "markdown",
      "metadata": {},
      "source": [
        "For this tutorial we will use the famous King+Rook versus King+Pawn on A7 dataset, which has\nthe dataset ID 3 ([dataset on OpenML](https://www.openml.org/d/3)), and for which there exist\ntasks with all important estimation procedures. It is small enough (less than 5000 samples) to\nefficiently use it in an example.\n\nWe will first start with ([task 233](https://www.openml.org/t/233)), which is a task with a\nholdout estimation procedure.\n\n"
      ]
    },
    {
      "cell_type": "code",
      "execution_count": null,
      "metadata": {
        "collapsed": false
      },
      "outputs": [],
      "source": [
        "task_id = 233\ntask = openml.tasks.get_task(task_id)"
      ]
    },
    {
      "cell_type": "markdown",
      "metadata": {},
      "source": [
        "Now that we have a task object we can obtain the number of repetitions, folds and samples as\ndefined by the task:\n\n"
      ]
    },
    {
      "cell_type": "code",
      "execution_count": null,
      "metadata": {
        "collapsed": false
      },
      "outputs": [],
      "source": [
        "n_repeats, n_folds, n_samples = task.get_split_dimensions()"
      ]
    },
    {
      "cell_type": "markdown",
      "metadata": {},
      "source": [
        "* ``n_repeats``: Number of times the model quality estimation is performed\n* ``n_folds``: Number of folds per repeat\n* ``n_samples``: How many data points to use. This is only relevant for learning curve tasks\n\nA list of all available estimation procedures is available\n[here](https://www.openml.org/search?q=%2520measure_type%3Aestimation_procedure&type=measure).\n\nTask ``233`` is a simple task using the holdout estimation procedure and therefore has only a\nsingle repeat, a single fold and a single sample size:\n\n"
      ]
    },
    {
      "cell_type": "code",
      "execution_count": null,
      "metadata": {
        "collapsed": false
      },
      "outputs": [],
      "source": [
        "print(\n    \"Task {}: number of repeats: {}, number of folds: {}, number of samples {}.\".format(\n        task_id,\n        n_repeats,\n        n_folds,\n        n_samples,\n    )\n)"
      ]
    },
    {
      "cell_type": "markdown",
      "metadata": {},
      "source": [
        "We can now retrieve the train/test split for this combination of repeats, folds and number of\nsamples (indexing is zero-based). Usually, one would loop over all repeats, folds and sample\nsizes, but we can neglect this here as there is only a single repetition.\n\n"
      ]
    },
    {
      "cell_type": "code",
      "execution_count": null,
      "metadata": {
        "collapsed": false
      },
      "outputs": [],
      "source": [
        "train_indices, test_indices = task.get_train_test_split_indices(\n    repeat=0,\n    fold=0,\n    sample=0,\n)\n\nprint(train_indices.shape, train_indices.dtype)\nprint(test_indices.shape, test_indices.dtype)"
      ]
    },
    {
      "cell_type": "markdown",
      "metadata": {},
      "source": [
        "And then split the data based on this:\n\n"
      ]
    },
    {
      "cell_type": "code",
      "execution_count": null,
      "metadata": {
        "collapsed": false
      },
      "outputs": [],
      "source": [
        "X, y = task.get_X_and_y(dataset_format=\"dataframe\")\nX_train = X.iloc[train_indices]\ny_train = y.iloc[train_indices]\nX_test = X.iloc[test_indices]\ny_test = y.iloc[test_indices]\n\nprint(\n    \"X_train.shape: {}, y_train.shape: {}, X_test.shape: {}, y_test.shape: {}\".format(\n        X_train.shape,\n        y_train.shape,\n        X_test.shape,\n        y_test.shape,\n    )\n)"
      ]
    },
    {
      "cell_type": "markdown",
      "metadata": {},
      "source": [
        "Obviously, we can also retrieve cross-validation versions of the dataset used in task ``233``:\n\n"
      ]
    },
    {
      "cell_type": "code",
      "execution_count": null,
      "metadata": {
        "collapsed": false
      },
      "outputs": [],
      "source": [
        "task_id = 3\ntask = openml.tasks.get_task(task_id)\nX, y = task.get_X_and_y(dataset_format=\"dataframe\")\nn_repeats, n_folds, n_samples = task.get_split_dimensions()\nprint(\n    \"Task {}: number of repeats: {}, number of folds: {}, number of samples {}.\".format(\n        task_id,\n        n_repeats,\n        n_folds,\n        n_samples,\n    )\n)"
      ]
    },
    {
      "cell_type": "markdown",
      "metadata": {},
      "source": [
        "And then perform the aforementioned iteration over all splits:\n\n"
      ]
    },
    {
      "cell_type": "code",
      "execution_count": null,
      "metadata": {
        "collapsed": false
      },
      "outputs": [],
      "source": [
        "for repeat_idx in range(n_repeats):\n    for fold_idx in range(n_folds):\n        for sample_idx in range(n_samples):\n            train_indices, test_indices = task.get_train_test_split_indices(\n                repeat=repeat_idx,\n                fold=fold_idx,\n                sample=sample_idx,\n            )\n            X_train = X.iloc[train_indices]\n            y_train = y.iloc[train_indices]\n            X_test = X.iloc[test_indices]\n            y_test = y.iloc[test_indices]\n\n            print(\n                \"Repeat #{}, fold #{}, samples {}: X_train.shape: {}, \"\n                \"y_train.shape {}, X_test.shape {}, y_test.shape {}\".format(\n                    repeat_idx,\n                    fold_idx,\n                    sample_idx,\n                    X_train.shape,\n                    y_train.shape,\n                    X_test.shape,\n                    y_test.shape,\n                )\n            )"
      ]
    },
    {
      "cell_type": "markdown",
      "metadata": {},
      "source": [
        "And also versions with multiple repeats:\n\n"
      ]
    },
    {
      "cell_type": "code",
      "execution_count": null,
      "metadata": {
        "collapsed": false
      },
      "outputs": [],
      "source": [
        "task_id = 1767\ntask = openml.tasks.get_task(task_id)\nX, y = task.get_X_and_y(dataset_format=\"dataframe\")\nn_repeats, n_folds, n_samples = task.get_split_dimensions()\nprint(\n    \"Task {}: number of repeats: {}, number of folds: {}, number of samples {}.\".format(\n        task_id,\n        n_repeats,\n        n_folds,\n        n_samples,\n    )\n)"
      ]
    },
    {
      "cell_type": "markdown",
      "metadata": {},
      "source": [
        "And then again perform the aforementioned iteration over all splits:\n\n"
      ]
    },
    {
      "cell_type": "code",
      "execution_count": null,
      "metadata": {
        "collapsed": false
      },
      "outputs": [],
      "source": [
        "for repeat_idx in range(n_repeats):\n    for fold_idx in range(n_folds):\n        for sample_idx in range(n_samples):\n            train_indices, test_indices = task.get_train_test_split_indices(\n                repeat=repeat_idx,\n                fold=fold_idx,\n                sample=sample_idx,\n            )\n            X_train = X.iloc[train_indices]\n            y_train = y.iloc[train_indices]\n            X_test = X.iloc[test_indices]\n            y_test = y.iloc[test_indices]\n\n            print(\n                \"Repeat #{}, fold #{}, samples {}: X_train.shape: {}, \"\n                \"y_train.shape {}, X_test.shape {}, y_test.shape {}\".format(\n                    repeat_idx,\n                    fold_idx,\n                    sample_idx,\n                    X_train.shape,\n                    y_train.shape,\n                    X_test.shape,\n                    y_test.shape,\n                )\n            )"
      ]
    },
    {
      "cell_type": "markdown",
      "metadata": {},
      "source": [
        "And finally a task based on learning curves:\n\n"
      ]
    },
    {
      "cell_type": "code",
      "execution_count": null,
      "metadata": {
        "collapsed": false
      },
      "outputs": [],
      "source": [
        "task_id = 1702\ntask = openml.tasks.get_task(task_id)\nX, y = task.get_X_and_y(dataset_format=\"dataframe\")\nn_repeats, n_folds, n_samples = task.get_split_dimensions()\nprint(\n    \"Task {}: number of repeats: {}, number of folds: {}, number of samples {}.\".format(\n        task_id,\n        n_repeats,\n        n_folds,\n        n_samples,\n    )\n)"
      ]
    },
    {
      "cell_type": "markdown",
      "metadata": {},
      "source": [
        "And then again perform the aforementioned iteration over all splits:\n\n"
      ]
    },
    {
      "cell_type": "code",
      "execution_count": null,
      "metadata": {
        "collapsed": false
      },
      "outputs": [],
      "source": [
        "for repeat_idx in range(n_repeats):\n    for fold_idx in range(n_folds):\n        for sample_idx in range(n_samples):\n            train_indices, test_indices = task.get_train_test_split_indices(\n                repeat=repeat_idx,\n                fold=fold_idx,\n                sample=sample_idx,\n            )\n            X_train = X.iloc[train_indices]\n            y_train = y.iloc[train_indices]\n            X_test = X.iloc[test_indices]\n            y_test = y.iloc[test_indices]\n\n            print(\n                \"Repeat #{}, fold #{}, samples {}: X_train.shape: {}, \"\n                \"y_train.shape {}, X_test.shape {}, y_test.shape {}\".format(\n                    repeat_idx,\n                    fold_idx,\n                    sample_idx,\n                    X_train.shape,\n                    y_train.shape,\n                    X_test.shape,\n                    y_test.shape,\n                )\n            )"
      ]
    }
  ],
  "metadata": {
    "kernelspec": {
      "display_name": "Python 3",
      "language": "python",
      "name": "python3"
    },
    "language_info": {
      "codemirror_mode": {
        "name": "ipython",
        "version": 3
      },
      "file_extension": ".py",
      "mimetype": "text/x-python",
      "name": "python",
      "nbconvert_exporter": "python",
      "pygments_lexer": "ipython3",
      "version": "3.8.18"
    }
  },
  "nbformat": 4,
  "nbformat_minor": 0
}